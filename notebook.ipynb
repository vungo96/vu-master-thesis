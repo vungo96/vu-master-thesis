{
  "cells": [
    {
      "cell_type": "markdown",
      "metadata": {
        "id": "ydgHX0jND1H9"
      },
      "source": [
        "# Notebook for debugging "
      ]
    },
    {
      "cell_type": "markdown",
      "source": [
        "# LIIF and LIIF + GLEAN"
      ],
      "metadata": {
        "id": "z90tKsfnflf3"
      }
    },
    {
      "cell_type": "markdown",
      "source": [
        "## Repository and Requirements"
      ],
      "metadata": {
        "id": "ngCUg8EHEnrw"
      }
    },
    {
      "cell_type": "code",
      "source": [
        "# Clone repo\n",
        "!rm -rf vu-master-thesis\n",
        "!git clone https://github.com/vungo96/vu-master-thesis.git\n",
        "%cd vu-master-thesis/liif"
      ],
      "metadata": {
        "id": "_WjqZNnfEp2C"
      },
      "execution_count": null,
      "outputs": []
    },
    {
      "cell_type": "code",
      "source": [
        "# packages for liif repo\n",
        "!pip install tensorboardX PyYAML tqdm imageio"
      ],
      "metadata": {
        "id": "ZSlHeiGSEUTV"
      },
      "execution_count": null,
      "outputs": []
    },
    {
      "cell_type": "code",
      "source": [
        "# torch 1.13.1 with cuda 11.6\n",
        "!pip install torch torchvision torchaudio --extra-index-url https://download.pytorch.org/whl/cu116"
      ],
      "metadata": {
        "id": "CFFo8CsyEbb3"
      },
      "execution_count": null,
      "outputs": []
    },
    {
      "cell_type": "code",
      "source": [
        "# Install openmim for the installation of mmcv-full\n",
        "!pip install openmim\n",
        "\n",
        "# Install mmcv-full thus we could use CUDA operators\n",
        "!mim install mmcv-full"
      ],
      "metadata": {
        "id": "IltuQTEDEfzj"
      },
      "execution_count": null,
      "outputs": []
    },
    {
      "cell_type": "markdown",
      "source": [
        "## Load datasets"
      ],
      "metadata": {
        "id": "7yJP48fbMsx-"
      }
    },
    {
      "cell_type": "code",
      "source": [
        "from google.colab import drive\n",
        "\n",
        "drive.mount(\"/content/gdrive/\", force_remount=True)"
      ],
      "metadata": {
        "id": "93sU8Yz0M3ss"
      },
      "execution_count": null,
      "outputs": []
    },
    {
      "cell_type": "markdown",
      "source": [
        "## Demo"
      ],
      "metadata": {
        "id": "sUY7fZ10QcJo"
      }
    },
    {
      "cell_type": "markdown",
      "source": [
        "Demo for LIIF (change model for liif_glean model). Specify the input image, model, resolution, output and gpus. Change paths in config for shared data and ckpts in google drive.\n",
        "\n",
        "---\n",
        "\n"
      ],
      "metadata": {
        "id": "P-77XjVoS5J_"
      }
    },
    {
      "cell_type": "code",
      "source": [
        "!python /content/vu-master-thesis/liif/demo.py --input \"/content/gdrive/MyDrive/vu-master-thesis/liif/load/celebAHQ/different_sized/48x48.jpg\" --model \"/content/gdrive/My Drive/vu-master-thesis/liif/ckpts/edsr-baseline-liif.pth\" --resolution 256,256 --output \"/content/gdrive/My Drive/vu-master-thesis/liif/output.png\" --gpu \"0\""
      ],
      "metadata": {
        "id": "7VAhKsh8Q7L3"
      },
      "execution_count": null,
      "outputs": []
    },
    {
      "cell_type": "markdown",
      "source": [
        "## Train"
      ],
      "metadata": {
        "id": "flt4adteSzfb"
      }
    },
    {
      "cell_type": "markdown",
      "source": [
        "Train liif_glean model. Specify config and gpus. Change paths in config for shared data and ckpts in google drive."
      ],
      "metadata": {
        "id": "UQsvzu6YT-Pq"
      }
    },
    {
      "cell_type": "code",
      "source": [
        "!python /content/vu-master-thesis/liif/train_liif.py --config \"/content/vu-master-thesis/liif/configs/train-celebAHQ/train_celebAHQ-32-256_liif_glean_styleganv2.yaml\" --gpu \"0\""
      ],
      "metadata": {
        "id": "2lh3WnxMS2Jd"
      },
      "execution_count": null,
      "outputs": []
    },
    {
      "cell_type": "markdown",
      "source": [
        "## Test"
      ],
      "metadata": {
        "id": "4tOhoufxTk0Q"
      }
    },
    {
      "cell_type": "markdown",
      "source": [
        "Test liif_glean model. Specify config and gpus. Change paths in config for shared data and ckpts in google drive."
      ],
      "metadata": {
        "id": "KQCSjl3vUJ1X"
      }
    },
    {
      "cell_type": "code",
      "source": [
        "!python /content/vu-master-thesis/liif/test.py --config \"/content/vu-master-thesis/liif/configs/test/test-celebAHQ-32-256.yaml\" --model \"/content/gdrive/MyDrive/vu-master-thesis/liif/save/_train_celebAHQ-32-256_liif_glean_bank_encoder_cats/epoch-100.pth\" --gpu \"0\""
      ],
      "metadata": {
        "id": "phsNMxcaTnyz"
      },
      "execution_count": null,
      "outputs": []
    },
    {
      "cell_type": "markdown",
      "source": [
        "# GLEAN"
      ],
      "metadata": {
        "id": "YMD-jRPcfRYT"
      }
    },
    {
      "cell_type": "markdown",
      "source": [
        "## Repository and Requirements"
      ],
      "metadata": {
        "id": "-VEP3UJUfsJq"
      }
    },
    {
      "cell_type": "code",
      "source": [
        "# Clone repo\n",
        "!rm -rf vu-master-thesis\n",
        "!git clone https://github.com/vungo96/vu-master-thesis.git\n",
        "%cd vu-master-thesis/mmediting"
      ],
      "metadata": {
        "id": "xPb_003tjCR3"
      },
      "execution_count": null,
      "outputs": []
    },
    {
      "cell_type": "code",
      "source": [
        "# packages for mmediting repo\n",
        "!pip install -v -e ."
      ],
      "metadata": {
        "id": "TeKeDw2gjFLS"
      },
      "execution_count": null,
      "outputs": []
    },
    {
      "cell_type": "markdown",
      "source": [
        "## Demo"
      ],
      "metadata": {
        "id": "PlE7960Bf33T"
      }
    },
    {
      "cell_type": "markdown",
      "source": [
        "Demo for GLEAN. Specify the config, model, input image, output and upscale factor.\n",
        "\n",
        "\n"
      ],
      "metadata": {
        "id": "qKz-6-UCgD9O"
      }
    },
    {
      "cell_type": "code",
      "source": [
        "!python /content/vu-master-thesis/mmediting/demo/restoration_face_demo.py \"/content/vu-master-thesis/mmediting/configs/restorers/glean/glean_in128out1024_4x2_300k_ffhq_celebahq.py\" \"/content/gdrive/MyDrive/vu-master-thesis/mmediting/ckpts/glean_in128out1024_4x2_300k_ffhq_celebahq_20210812-acbcb04f.pth\" \"/content/gdrive/MyDrive/vu-master-thesis/liif/load/celebAHQ/different_sized/48x48.jpg\" \"/content/gdrive/MyDrive/vu-master-thesis/mmediting/output.png\""
      ],
      "metadata": {
        "id": "xs7bPTWCf6jK"
      },
      "execution_count": null,
      "outputs": []
    },
    {
      "cell_type": "markdown",
      "source": [
        "## Train"
      ],
      "metadata": {
        "id": "ZlJkPStmgTr1"
      }
    },
    {
      "cell_type": "markdown",
      "source": [
        "Train liif_glean model. Specify config and gpus. Download the data from the official ffhq website (takes too long to upload)"
      ],
      "metadata": {
        "id": "twiSRy7AgYog"
      }
    },
    {
      "cell_type": "code",
      "source": [
        "!python /content/vu-master-thesis/mmediting/tools/train.py \"/content/vu-master-thesis/mmediting/configs/restorers/glean/glean_in128out1024_4x2_300k_ffhq_celebahq.py\" --gpu \"0\""
      ],
      "metadata": {
        "id": "RAZsUGx4gZVB"
      },
      "execution_count": null,
      "outputs": []
    }
  ],
  "metadata": {
    "language_info": {
      "name": "python"
    },
    "orig_nbformat": 4,
    "colab": {
      "provenance": [],
      "machine_shape": "hm"
    },
    "kernelspec": {
      "name": "python3",
      "display_name": "Python 3"
    },
    "gpuClass": "premium",
    "accelerator": "GPU"
  },
  "nbformat": 4,
  "nbformat_minor": 0
}